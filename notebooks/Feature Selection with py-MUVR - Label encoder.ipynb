{
 "cells": [
  {
   "cell_type": "code",
   "execution_count": 1,
   "metadata": {},
   "outputs": [],
   "source": [
    "import category_encoders as ce\n",
    "import pandas as pd\n",
    "import re\n",
    "from vaderSentiment.vaderSentiment import SentimentIntensityAnalyzer"
   ]
  },
  {
   "cell_type": "code",
   "execution_count": 2,
   "metadata": {},
   "outputs": [],
   "source": [
    "df = pd.read_csv('wine_dataset.csv')\n",
    "df = df.drop(columns = ['Unnamed: 0', 'designation', 'region_2', 'taster_twitter_handle', 'winery'])\n",
    "df = df.drop_duplicates(ignore_index=True)\n",
    "\n",
    "for i in range(len(df)):\n",
    "    num = df.loc[[i]].isna().sum().sum()\n",
    "    if num >=2: \n",
    "        df.drop(i, axis = 0, inplace=True)\n",
    "        \n",
    "df['price'].fillna(df['price'].median(), inplace=True)\n",
    "df['region_1'].fillna(str(df['region_1'].mode()), inplace=True)\n",
    "df['taster_name'].fillna(0, inplace=True)"
   ]
  },
  {
   "cell_type": "code",
   "execution_count": 3,
   "metadata": {},
   "outputs": [],
   "source": [
    "analyzerObj = SentimentIntensityAnalyzer()\n",
    "\n",
    "df['descLen'] = df['description'].map(lambda description: len(description))\n",
    "df['compound'] = df['description'].map(lambda description: analyzerObj.polarity_scores(description)['compound'])\n",
    "df['year'] = df['title'].map(lambda title: re.search(r\"(\\d{4})\", title).group(1) if re.search(r\"(\\d{4})\", title) else '0')\n",
    "\n",
    "df = df.drop(columns = ['description', 'title'])"
   ]
  },
  {
   "cell_type": "code",
   "execution_count": 4,
   "metadata": {},
   "outputs": [
    {
     "data": {
      "text/html": [
       "<div>\n",
       "<style scoped>\n",
       "    .dataframe tbody tr th:only-of-type {\n",
       "        vertical-align: middle;\n",
       "    }\n",
       "\n",
       "    .dataframe tbody tr th {\n",
       "        vertical-align: top;\n",
       "    }\n",
       "\n",
       "    .dataframe thead th {\n",
       "        text-align: right;\n",
       "    }\n",
       "</style>\n",
       "<table border=\"1\" class=\"dataframe\">\n",
       "  <thead>\n",
       "    <tr style=\"text-align: right;\">\n",
       "      <th></th>\n",
       "      <th>points</th>\n",
       "      <th>price</th>\n",
       "      <th>descLen</th>\n",
       "      <th>compound</th>\n",
       "      <th>year</th>\n",
       "    </tr>\n",
       "  </thead>\n",
       "  <tbody>\n",
       "    <tr>\n",
       "      <th>count</th>\n",
       "      <td>9634.000000</td>\n",
       "      <td>9634.000000</td>\n",
       "      <td>9634.000000</td>\n",
       "      <td>9634.000000</td>\n",
       "      <td>9634.000000</td>\n",
       "    </tr>\n",
       "    <tr>\n",
       "      <th>mean</th>\n",
       "      <td>88.469898</td>\n",
       "      <td>35.070687</td>\n",
       "      <td>244.020345</td>\n",
       "      <td>0.517049</td>\n",
       "      <td>2010.698671</td>\n",
       "    </tr>\n",
       "    <tr>\n",
       "      <th>std</th>\n",
       "      <td>3.038932</td>\n",
       "      <td>40.222552</td>\n",
       "      <td>66.422905</td>\n",
       "      <td>0.370791</td>\n",
       "      <td>4.844967</td>\n",
       "    </tr>\n",
       "    <tr>\n",
       "      <th>min</th>\n",
       "      <td>80.000000</td>\n",
       "      <td>5.000000</td>\n",
       "      <td>53.000000</td>\n",
       "      <td>-0.840200</td>\n",
       "      <td>1848.000000</td>\n",
       "    </tr>\n",
       "    <tr>\n",
       "      <th>25%</th>\n",
       "      <td>86.000000</td>\n",
       "      <td>17.000000</td>\n",
       "      <td>198.000000</td>\n",
       "      <td>0.296000</td>\n",
       "      <td>2009.000000</td>\n",
       "    </tr>\n",
       "    <tr>\n",
       "      <th>50%</th>\n",
       "      <td>88.000000</td>\n",
       "      <td>25.000000</td>\n",
       "      <td>238.000000</td>\n",
       "      <td>0.636900</td>\n",
       "      <td>2011.000000</td>\n",
       "    </tr>\n",
       "    <tr>\n",
       "      <th>75%</th>\n",
       "      <td>91.000000</td>\n",
       "      <td>40.000000</td>\n",
       "      <td>284.000000</td>\n",
       "      <td>0.822500</td>\n",
       "      <td>2013.000000</td>\n",
       "    </tr>\n",
       "    <tr>\n",
       "      <th>max</th>\n",
       "      <td>100.000000</td>\n",
       "      <td>1300.000000</td>\n",
       "      <td>653.000000</td>\n",
       "      <td>0.988700</td>\n",
       "      <td>2017.000000</td>\n",
       "    </tr>\n",
       "  </tbody>\n",
       "</table>\n",
       "</div>"
      ],
      "text/plain": [
       "            points        price      descLen     compound         year\n",
       "count  9634.000000  9634.000000  9634.000000  9634.000000  9634.000000\n",
       "mean     88.469898    35.070687   244.020345     0.517049  2010.698671\n",
       "std       3.038932    40.222552    66.422905     0.370791     4.844967\n",
       "min      80.000000     5.000000    53.000000    -0.840200  1848.000000\n",
       "25%      86.000000    17.000000   198.000000     0.296000  2009.000000\n",
       "50%      88.000000    25.000000   238.000000     0.636900  2011.000000\n",
       "75%      91.000000    40.000000   284.000000     0.822500  2013.000000\n",
       "max     100.000000  1300.000000   653.000000     0.988700  2017.000000"
      ]
     },
     "execution_count": 4,
     "metadata": {},
     "output_type": "execute_result"
    }
   ],
   "source": [
    "df['year'] = pd.to_numeric(df['year'])\n",
    "df.loc[df['year'] == 7200]\n",
    "df.at[7057, 'year'] = 2007\n",
    "median = df.loc[df['year']>0].median()\n",
    "median = median[4]\n",
    "df['year'].replace(0, median, inplace = True)\n",
    "df.describe()"
   ]
  },
  {
   "cell_type": "code",
   "execution_count": 5,
   "metadata": {},
   "outputs": [
    {
     "name": "stderr",
     "output_type": "stream",
     "text": [
      "/Users/camila/miniconda3/lib/python3.7/site-packages/category_encoders/utils.py:21: FutureWarning: is_categorical is deprecated and will be removed in a future version.  Use is_categorical_dtype instead\n",
      "  elif pd.api.types.is_categorical(cols):\n"
     ]
    }
   ],
   "source": [
    "ce_ord = ce.OrdinalEncoder(cols = ['country', 'province', 'region_1', 'taster_name', 'variety'])\n",
    "data = ce_ord.fit_transform(df, df['points'])\n"
   ]
  },
  {
   "cell_type": "code",
   "execution_count": 6,
   "metadata": {},
   "outputs": [
    {
     "data": {
      "text/html": [
       "<div>\n",
       "<style scoped>\n",
       "    .dataframe tbody tr th:only-of-type {\n",
       "        vertical-align: middle;\n",
       "    }\n",
       "\n",
       "    .dataframe tbody tr th {\n",
       "        vertical-align: top;\n",
       "    }\n",
       "\n",
       "    .dataframe thead th {\n",
       "        text-align: right;\n",
       "    }\n",
       "</style>\n",
       "<table border=\"1\" class=\"dataframe\">\n",
       "  <thead>\n",
       "    <tr style=\"text-align: right;\">\n",
       "      <th></th>\n",
       "      <th>country</th>\n",
       "      <th>points</th>\n",
       "      <th>price</th>\n",
       "      <th>province</th>\n",
       "      <th>region_1</th>\n",
       "      <th>taster_name</th>\n",
       "      <th>variety</th>\n",
       "      <th>descLen</th>\n",
       "      <th>compound</th>\n",
       "      <th>year</th>\n",
       "    </tr>\n",
       "  </thead>\n",
       "  <tbody>\n",
       "    <tr>\n",
       "      <th>0</th>\n",
       "      <td>1</td>\n",
       "      <td>90</td>\n",
       "      <td>30.0</td>\n",
       "      <td>1</td>\n",
       "      <td>1</td>\n",
       "      <td>1</td>\n",
       "      <td>1</td>\n",
       "      <td>222</td>\n",
       "      <td>0.9403</td>\n",
       "      <td>2012.0</td>\n",
       "    </tr>\n",
       "    <tr>\n",
       "      <th>1</th>\n",
       "      <td>2</td>\n",
       "      <td>87</td>\n",
       "      <td>22.0</td>\n",
       "      <td>2</td>\n",
       "      <td>2</td>\n",
       "      <td>2</td>\n",
       "      <td>2</td>\n",
       "      <td>174</td>\n",
       "      <td>0.4404</td>\n",
       "      <td>2014.0</td>\n",
       "    </tr>\n",
       "    <tr>\n",
       "      <th>3</th>\n",
       "      <td>3</td>\n",
       "      <td>92</td>\n",
       "      <td>50.0</td>\n",
       "      <td>3</td>\n",
       "      <td>3</td>\n",
       "      <td>3</td>\n",
       "      <td>3</td>\n",
       "      <td>268</td>\n",
       "      <td>0.6705</td>\n",
       "      <td>2012.0</td>\n",
       "    </tr>\n",
       "    <tr>\n",
       "      <th>4</th>\n",
       "      <td>3</td>\n",
       "      <td>93</td>\n",
       "      <td>38.0</td>\n",
       "      <td>3</td>\n",
       "      <td>3</td>\n",
       "      <td>3</td>\n",
       "      <td>4</td>\n",
       "      <td>326</td>\n",
       "      <td>0.4404</td>\n",
       "      <td>2013.0</td>\n",
       "    </tr>\n",
       "    <tr>\n",
       "      <th>5</th>\n",
       "      <td>3</td>\n",
       "      <td>84</td>\n",
       "      <td>14.0</td>\n",
       "      <td>3</td>\n",
       "      <td>4</td>\n",
       "      <td>4</td>\n",
       "      <td>4</td>\n",
       "      <td>133</td>\n",
       "      <td>0.6908</td>\n",
       "      <td>2012.0</td>\n",
       "    </tr>\n",
       "  </tbody>\n",
       "</table>\n",
       "</div>"
      ],
      "text/plain": [
       "   country  points  price  province  region_1  taster_name  variety  descLen  \\\n",
       "0        1      90   30.0         1         1            1        1      222   \n",
       "1        2      87   22.0         2         2            2        2      174   \n",
       "3        3      92   50.0         3         3            3        3      268   \n",
       "4        3      93   38.0         3         3            3        4      326   \n",
       "5        3      84   14.0         3         4            4        4      133   \n",
       "\n",
       "   compound    year  \n",
       "0    0.9403  2012.0  \n",
       "1    0.4404  2014.0  \n",
       "3    0.6705  2012.0  \n",
       "4    0.4404  2013.0  \n",
       "5    0.6908  2012.0  "
      ]
     },
     "execution_count": 6,
     "metadata": {},
     "output_type": "execute_result"
    }
   ],
   "source": [
    "data.head()"
   ]
  },
  {
   "cell_type": "markdown",
   "metadata": {},
   "source": [
    "IMPORTS AND CLIENT SETUP"
   ]
  },
  {
   "cell_type": "code",
   "execution_count": 7,
   "metadata": {},
   "outputs": [],
   "source": [
    "from py_muvr import FeatureSelector # also had to install libomp from brew"
   ]
  },
  {
   "cell_type": "code",
   "execution_count": 8,
   "metadata": {},
   "outputs": [],
   "source": [
    "from dask.distributed import Client"
   ]
  },
  {
   "cell_type": "code",
   "execution_count": 9,
   "metadata": {},
   "outputs": [],
   "source": [
    "client = Client()\n",
    "executor = client.get_executor()"
   ]
  },
  {
   "cell_type": "markdown",
   "metadata": {},
   "source": [
    "Separate predictor variables from target variable (points)"
   ]
  },
  {
   "cell_type": "code",
   "execution_count": 10,
   "metadata": {},
   "outputs": [],
   "source": [
    "X = data.drop(columns=[\"points\"]).values\n",
    "y = data.points.values"
   ]
  },
  {
   "cell_type": "markdown",
   "metadata": {},
   "source": [
    "Feature Selection\n",
    "\n",
    "Estimator is the ML model used to evaluate the features.\n",
    "Metrics is from scikit learn"
   ]
  },
  {
   "cell_type": "code",
   "execution_count": 11,
   "metadata": {},
   "outputs": [],
   "source": [
    "estimator = \"PLSR\"\n",
    "metric = \"neg_mean_squared_error\""
   ]
  },
  {
   "cell_type": "code",
   "execution_count": 12,
   "metadata": {},
   "outputs": [],
   "source": [
    "fs = FeatureSelector(\n",
    "    n_outer=6,\n",
    "    n_inner=5,\n",
    "    n_repetitions=8,\n",
    "    metric=metric,\n",
    "    estimator=estimator,\n",
    "    features_dropout_rate=0.05,\n",
    "    random_state=1\n",
    ")"
   ]
  },
  {
   "cell_type": "code",
   "execution_count": 13,
   "metadata": {},
   "outputs": [
    {
     "name": "stdout",
     "output_type": "stream",
     "text": [
      "2021-06-16 17:17:13 py_muvr.feature_selector   INFO    Groups parameter is not specified: independent samples assumed\n",
      "2021-06-16 17:17:13 py_muvr.feature_selector   INFO    Running 8 repetitions and 6 outer loops using executor ClientExecutor.\n",
      "2021-06-16 17:17:13 py_muvr.feature_selector   INFO    Scheduling tasks...\n"
     ]
    },
    {
     "name": "stderr",
     "output_type": "stream",
     "text": [
      "N/A% (0 of 48) |                         | Elapsed Time: 0:00:00 ETA:  --:--:--/Users/camila/miniconda3/lib/python3.7/site-packages/distributed/worker.py:3693: UserWarning: Large object of size 3.09 MiB detected in task graph: \n",
      "  (InputDataset(X=array([[1.000e+00, 3.000e+01, 1.00 ... t 0x11c262320>)\n",
      "Consider scattering large objects ahead of time\n",
      "with client.scatter to reduce scheduler burden and \n",
      "keep data on workers\n",
      "\n",
      "    future = client.submit(func, big_data)    # bad\n",
      "\n",
      "    big_future = client.scatter(big_data)     # good\n",
      "    future = client.submit(func, big_future)  # good\n",
      "  % (format_bytes(len(b)), s)\n",
      "100% (48 of 48) |########################| Elapsed Time: 0:00:02 Time:  0:00:02\n"
     ]
    },
    {
     "name": "stdout",
     "output_type": "stream",
     "text": [
      "2021-06-16 17:17:16 py_muvr.feature_selector   INFO    Retrieving results...\n"
     ]
    },
    {
     "name": "stderr",
     "output_type": "stream",
     "text": [
      "100% (48 of 48) |########################| Elapsed Time: 0:00:06 Time:  0:00:06\n"
     ]
    },
    {
     "name": "stdout",
     "output_type": "stream",
     "text": [
      "2021-06-16 17:17:23 py_muvr.feature_selector   INFO    Finished feature selection.\n"
     ]
    },
    {
     "data": {
      "text/plain": [
       "FeatureSelector(repetitions=8, n_outer=6, n_inner=5, feature_dropout_rate=0.05, is_fit=True)"
      ]
     },
     "execution_count": 13,
     "metadata": {},
     "output_type": "execute_result"
    }
   ],
   "source": [
    "fs.fit(X, y, executor=executor)"
   ]
  },
  {
   "cell_type": "code",
   "execution_count": 14,
   "metadata": {},
   "outputs": [],
   "source": [
    "feature_names = data.drop(columns=[\"points\"]).columns"
   ]
  },
  {
   "cell_type": "code",
   "execution_count": 15,
   "metadata": {},
   "outputs": [],
   "source": [
    "selected_features = fs.get_selected_features()\n",
    "selected_feature_names = fs.get_selected_features(feature_names)"
   ]
  },
  {
   "cell_type": "code",
   "execution_count": 16,
   "metadata": {},
   "outputs": [
    {
     "name": "stdout",
     "output_type": "stream",
     "text": [
      "[6, 1, 7, 8]\n",
      "['descLen', 'price', 'compound', 'year']\n"
     ]
    }
   ],
   "source": [
    "print(selected_features[\"min\"])\n",
    "print(selected_feature_names[\"min\"])"
   ]
  },
  {
   "cell_type": "code",
   "execution_count": 17,
   "metadata": {},
   "outputs": [
    {
     "name": "stdout",
     "output_type": "stream",
     "text": [
      "[6, 1, 7, 8, 0, 2]\n",
      "['descLen', 'price', 'compound', 'year', 'country', 'province']\n"
     ]
    }
   ],
   "source": [
    "print(selected_features[\"mid\"])\n",
    "print(selected_feature_names[\"mid\"])"
   ]
  },
  {
   "cell_type": "code",
   "execution_count": 18,
   "metadata": {},
   "outputs": [
    {
     "name": "stdout",
     "output_type": "stream",
     "text": [
      "[6, 1, 7, 8, 0, 2, 5, 3, 4]\n",
      "['descLen', 'price', 'compound', 'year', 'country', 'province', 'variety', 'region_1', 'taster_name']\n"
     ]
    }
   ],
   "source": [
    "print(selected_features[\"max\"])\n",
    "print(selected_feature_names[\"max\"])"
   ]
  },
  {
   "cell_type": "code",
   "execution_count": 19,
   "metadata": {},
   "outputs": [
    {
     "data": {
      "text/html": [
       "<div>\n",
       "<style scoped>\n",
       "    .dataframe tbody tr th:only-of-type {\n",
       "        vertical-align: middle;\n",
       "    }\n",
       "\n",
       "    .dataframe tbody tr th {\n",
       "        vertical-align: top;\n",
       "    }\n",
       "\n",
       "    .dataframe thead th {\n",
       "        text-align: right;\n",
       "    }\n",
       "</style>\n",
       "<table border=\"1\" class=\"dataframe\">\n",
       "  <thead>\n",
       "    <tr style=\"text-align: right;\">\n",
       "      <th></th>\n",
       "      <th>min</th>\n",
       "      <th>mid</th>\n",
       "      <th>max</th>\n",
       "    </tr>\n",
       "  </thead>\n",
       "  <tbody>\n",
       "    <tr>\n",
       "      <th>country</th>\n",
       "      <td>5.0</td>\n",
       "      <td>4.979167</td>\n",
       "      <td>4.958333</td>\n",
       "    </tr>\n",
       "    <tr>\n",
       "      <th>price</th>\n",
       "      <td>2.0</td>\n",
       "      <td>2.0</td>\n",
       "      <td>2.0</td>\n",
       "    </tr>\n",
       "    <tr>\n",
       "      <th>province</th>\n",
       "      <td>NaN</td>\n",
       "      <td>6.0</td>\n",
       "      <td>6.166667</td>\n",
       "    </tr>\n",
       "    <tr>\n",
       "      <th>region_1</th>\n",
       "      <td>NaN</td>\n",
       "      <td>NaN</td>\n",
       "      <td>8.0</td>\n",
       "    </tr>\n",
       "    <tr>\n",
       "      <th>taster_name</th>\n",
       "      <td>NaN</td>\n",
       "      <td>NaN</td>\n",
       "      <td>9.0</td>\n",
       "    </tr>\n",
       "  </tbody>\n",
       "</table>\n",
       "</div>"
      ],
      "text/plain": [
       "             min       mid       max\n",
       "country      5.0  4.979167  4.958333\n",
       "price        2.0       2.0       2.0\n",
       "province     NaN       6.0  6.166667\n",
       "region_1     NaN       NaN       8.0\n",
       "taster_name  NaN       NaN       9.0"
      ]
     },
     "execution_count": 19,
     "metadata": {},
     "output_type": "execute_result"
    }
   ],
   "source": [
    "feature_ranks_df = fs.get_average_ranks_df(feature_names)\n",
    "feature_ranks_df.head()"
   ]
  },
  {
   "cell_type": "code",
   "execution_count": 20,
   "metadata": {},
   "outputs": [],
   "source": [
    "feature_selection_results = fs.get_feature_selection_results(feature_names)\n",
    "from py_muvr.plot_utils import plot_validation_curves, plot_feature_rank\n"
   ]
  },
  {
   "cell_type": "code",
   "execution_count": 21,
   "metadata": {},
   "outputs": [
    {
     "name": "stderr",
     "output_type": "stream",
     "text": [
      "/Users/camila/miniconda3/lib/python3.7/site-packages/numpy/core/_asarray.py:102: VisibleDeprecationWarning: Creating an ndarray from ragged nested sequences (which is a list-or-tuple of lists-or-tuples-or ndarrays with different lengths or shapes) is deprecated. If you meant to do this, you must specify 'dtype=object' when creating the ndarray.\n",
      "  return array(a, dtype, copy=False, order=order)\n"
     ]
    },
    {
     "data": {
      "image/png": "[encoded data removed]",
      "text/plain": [
       "<Figure size 1350x900 with 2 Axes>"
      ]
     },
     "metadata": {
      "needs_background": "light"
     },
     "output_type": "display_data"
    }
   ],
   "source": [
    "_ = plot_feature_rank(feature_selection_results, \"min\", feature_names=feature_names, figsize=(15, 10), dpi=90)"
   ]
  }
 ],
 "metadata": {
  "kernelspec": {
   "display_name": "Python 3",
   "language": "python",
   "name": "python3"
  },
  "language_info": {
   "codemirror_mode": {
    "name": "ipython",
    "version": 3
   },
   "file_extension": ".py",
   "mimetype": "text/x-python",
   "name": "python",
   "nbconvert_exporter": "python",
   "pygments_lexer": "ipython3",
   "version": "3.7.1"
  }
 },
 "nbformat": 4,
 "nbformat_minor": 4
}
